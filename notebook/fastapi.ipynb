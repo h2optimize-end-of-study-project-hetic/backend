{
 "cells": [
  {
   "cell_type": "markdown",
   "id": "573f293a",
   "metadata": {},
   "source": [
    "Ce fichier permet simplement d’installer les dépendances dans un environnement virtuel pour avoir les détails en développement."
   ]
  },
  {
   "cell_type": "code",
   "execution_count": null,
   "id": "050a0f17",
   "metadata": {},
   "outputs": [],
   "source": [
    "%pip install -r ../app/requirements.txt"
   ]
  }
 ],
 "metadata": {
  "kernelspec": {
   "display_name": ".venv",
   "language": "python",
   "name": "python3"
  },
  "language_info": {
   "codemirror_mode": {
    "name": "ipython",
    "version": 3
   },
   "file_extension": ".py",
   "mimetype": "text/x-python",
   "name": "python",
   "nbconvert_exporter": "python",
   "pygments_lexer": "ipython3",
   "version": "3.12.7"
  }
 },
 "nbformat": 4,
 "nbformat_minor": 5
}
